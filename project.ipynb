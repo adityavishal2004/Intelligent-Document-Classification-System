{
 "cells": [
  {
   "cell_type": "code",
   "execution_count": 6,
   "id": "95e1344c-2b53-45d8-9faf-02a004dbf525",
   "metadata": {},
   "outputs": [
    {
     "name": "stdout",
     "output_type": "stream",
     "text": [
      "C:\\Users\\adity\\APL\n"
     ]
    }
   ],
   "source": [
    "import os\n",
    "print(os.getcwd())"
   ]
  },
  {
   "cell_type": "code",
   "execution_count": 8,
   "id": "03a59f19-9472-48fb-8b39-92c94488f8ab",
   "metadata": {},
   "outputs": [],
   "source": [
    "os.makedirs(\"dataset/spam\", exist_ok=True)  # Creates 'spam' folder if it doesn't exist\n",
    "os.makedirs(\"dataset/non_spam\", exist_ok=True)  # Creates 'non_spam' folder if it doesn't exist\n"
   ]
  },
  {
   "cell_type": "code",
   "execution_count": 14,
   "id": "7b63669c-753f-436b-9c44-3801a6165471",
   "metadata": {},
   "outputs": [
    {
     "ename": "IndentationError",
     "evalue": "unexpected indent (1958508761.py, line 2)",
     "output_type": "error",
     "traceback": [
      "\u001b[1;36m  Cell \u001b[1;32mIn[14], line 2\u001b[1;36m\u001b[0m\n\u001b[1;33m    spam/         # Folder for spam images\u001b[0m\n\u001b[1;37m    ^\u001b[0m\n\u001b[1;31mIndentationError\u001b[0m\u001b[1;31m:\u001b[0m unexpected indent\n"
     ]
    }
   ],
   "source": [
    "dataset_path = \"C:\\\\Users\\\\adity\\\\APL\\\\dataset\"\n",
    "    spam/         # Folder for spam images\n",
    "        without_weaving.jpg\n",
    "        wjoe_17.jpg\n",
    "        wpfji2y8W3.jpg\n",
    "    \n",
    "    non_spam/     # Folder for normal images\n",
    "        zzz_91064_01f964cdc0_m.jpg\n",
    "        zzz_9814_3b88fd33e3_m.jpg\n",
    "        zzz_9953_4bd3547c43_m.jpg\n"
   ]
  },
  {
   "cell_type": "code",
   "execution_count": 16,
   "id": "9eb53cfc-2643-4671-8883-35387d445ccc",
   "metadata": {},
   "outputs": [
    {
     "name": "stdout",
     "output_type": "stream",
     "text": [
      "Classes found: ['non_spam', 'spam']\n"
     ]
    }
   ],
   "source": [
    "import torch\n",
    "import torch.nn as nn\n",
    "import torch.optim as optim\n",
    "from torchvision import datasets, transforms\n",
    "from torch.utils.data import DataLoader\n",
    "\n",
    "# Define image transformations (resize, normalize)\n",
    "transform = transforms.Compose([\n",
    "    transforms.Resize((224, 224)),\n",
    "    transforms.ToTensor(),\n",
    "    transforms.Normalize(mean=[0.5], std=[0.5])\n",
    "])\n",
    "\n",
    "# Set path to dataset\n",
    "dataset_path = \"C:\\\\Users\\\\adity\\\\APL\\\\dataset\"  # Correct dataset path\n",
    "train_data = datasets.ImageFolder(root=dataset_path, transform=transform)\n",
    "train_loader = DataLoader(train_data, batch_size=32, shuffle=True)\n",
    "\n",
    "# Verify class names (should be ['non_spam', 'spam'])\n",
    "print(\"Classes found:\", train_data.classes)\n"
   ]
  },
  {
   "cell_type": "code",
   "execution_count": 18,
   "id": "14c6a267-fc45-4bd0-ba4d-b28fcf7b319a",
   "metadata": {},
   "outputs": [],
   "source": [
    "class SpamCNN(nn.Module):\n",
    "    def __init__(self):\n",
    "        super(SpamCNN, self).__init__()\n",
    "        self.conv1 = nn.Conv2d(3, 32, kernel_size=3, stride=1, padding=1)\n",
    "        self.pool = nn.MaxPool2d(kernel_size=2, stride=2)\n",
    "        self.conv2 = nn.Conv2d(32, 64, kernel_size=3, stride=1, padding=1)\n",
    "        self.fc1 = nn.Linear(64 * 56 * 56, 128)\n",
    "        self.fc2 = nn.Linear(128, 1)\n",
    "        self.sigmoid = nn.Sigmoid()\n",
    "\n",
    "    def forward(self, x):\n",
    "        x = self.pool(torch.relu(self.conv1(x)))\n",
    "        x = self.pool(torch.relu(self.conv2(x)))\n",
    "        x = x.view(-1, 64 * 56 * 56)  # Flatten\n",
    "        x = torch.relu(self.fc1(x))\n",
    "        x = self.sigmoid(self.fc2(x))\n",
    "        return x\n"
   ]
  },
  {
   "cell_type": "code",
   "execution_count": 20,
   "id": "b4395a9f-bcae-40c7-b6ef-61e6a80608e8",
   "metadata": {},
   "outputs": [
    {
     "name": "stdout",
     "output_type": "stream",
     "text": [
      "Epoch 1/10, Loss: 0.6896\n",
      "Epoch 2/10, Loss: 0.0030\n",
      "Epoch 3/10, Loss: 0.0000\n",
      "Epoch 4/10, Loss: 0.0000\n",
      "Epoch 5/10, Loss: 0.0000\n",
      "Epoch 6/10, Loss: 0.0000\n",
      "Epoch 7/10, Loss: 0.0000\n",
      "Epoch 8/10, Loss: 0.0000\n",
      "Epoch 9/10, Loss: 0.0000\n",
      "Epoch 10/10, Loss: 0.0000\n"
     ]
    }
   ],
   "source": [
    "# Initialize model, loss function, optimizer\n",
    "model = SpamCNN()\n",
    "criterion = nn.BCELoss()  # Binary Cross Entropy Loss\n",
    "optimizer = optim.Adam(model.parameters(), lr=0.001)\n",
    "\n",
    "# Training loop\n",
    "epochs = 10\n",
    "for epoch in range(epochs):\n",
    "    for images, labels in train_loader:\n",
    "        labels = labels.float().unsqueeze(1)  # Reshape for BCELoss\n",
    "        optimizer.zero_grad()\n",
    "        outputs = model(images)\n",
    "        loss = criterion(outputs, labels)\n",
    "        loss.backward()\n",
    "        optimizer.step()\n",
    "    \n",
    "    print(f\"Epoch {epoch+1}/{epochs}, Loss: {loss.item():.4f}\")\n",
    "\n",
    "# Save the model\n",
    "torch.save(model.state_dict(), \"spam_image_detector.pth\")\n"
   ]
  },
  {
   "cell_type": "code",
   "execution_count": 28,
   "id": "26318f3e-678c-4a53-968a-6cbb6692ac14",
   "metadata": {},
   "outputs": [
    {
     "name": "stdout",
     "output_type": "stream",
     "text": [
      "Not Spam ✅\n"
     ]
    }
   ],
   "source": [
    "# Example: Predict on a new image\n",
    "from PIL import Image\n",
    "image_path = r\"C:\\Users\\adity\\APL\\dataset\\non_spam\\zzz_91064_01f964cdc0_m.jpg\"  # Full path to the image\n",
    "img = Image.open(image_path)\n",
    "\n",
    "# Preprocess the image\n",
    "transform = transforms.Compose([\n",
    "    transforms.Resize((224, 224)),\n",
    "    transforms.ToTensor(),\n",
    "    transforms.Normalize(mean=[0.5], std=[0.5])\n",
    "])\n",
    "\n",
    "img = transform(img).unsqueeze(0)  # Add batch dimension\n",
    "\n",
    "# Predict\n",
    "with torch.no_grad():\n",
    "    prediction = model(img)\n",
    "    if prediction.item() > 0.5:\n",
    "        print(\"Spam Image 🚨\")\n",
    "    else:\n",
    "        print(\"Not Spam ✅\")\n"
   ]
  }
 ],
 "metadata": {
  "kernelspec": {
   "display_name": "Python [conda env:base] *",
   "language": "python",
   "name": "conda-base-py"
  },
  "language_info": {
   "codemirror_mode": {
    "name": "ipython",
    "version": 3
   },
   "file_extension": ".py",
   "mimetype": "text/x-python",
   "name": "python",
   "nbconvert_exporter": "python",
   "pygments_lexer": "ipython3",
   "version": "3.12.7"
  }
 },
 "nbformat": 4,
 "nbformat_minor": 5
}
